{
 "cells": [
  {
   "cell_type": "markdown",
   "id": "e7e8a9ea-f2f8-453f-a6c6-ace934027d29",
   "metadata": {},
   "source": [
    "# Audi Project Análisis económico"
   ]
  },
  {
   "cell_type": "code",
   "execution_count": 1,
   "id": "06b8d91b-65c1-4bf8-beb9-8a074e90143f",
   "metadata": {
    "tags": []
   },
   "outputs": [],
   "source": [
    "import pandas as pd\n",
    "import matplotlib.pyplot as plt"
   ]
  },
  {
   "cell_type": "code",
   "execution_count": 2,
   "id": "6e5479cb",
   "metadata": {},
   "outputs": [],
   "source": [
    "#Parametros \n",
    "costo_almacenamiento_por_unidad_por_año = 2  # USD\n",
    "horizonte_tiempo_años = 1"
   ]
  },
  {
   "cell_type": "code",
   "execution_count": 3,
   "id": "3b523a19-a7ad-4b83-a62e-af386c2c46a7",
   "metadata": {
    "tags": []
   },
   "outputs": [],
   "source": [
    "warehouse=pd.read_excel('Warehouse_detail_Excel.xlsx')"
   ]
  },
  {
   "cell_type": "code",
   "execution_count": 4,
   "id": "415f5ac2-ea61-4999-9f60-785743a0dd53",
   "metadata": {
    "tags": []
   },
   "outputs": [
    {
     "data": {
      "text/html": [
       "<div>\n",
       "<style scoped>\n",
       "    .dataframe tbody tr th:only-of-type {\n",
       "        vertical-align: middle;\n",
       "    }\n",
       "\n",
       "    .dataframe tbody tr th {\n",
       "        vertical-align: top;\n",
       "    }\n",
       "\n",
       "    .dataframe thead th {\n",
       "        text-align: right;\n",
       "    }\n",
       "</style>\n",
       "<table border=\"1\" class=\"dataframe\">\n",
       "  <thead>\n",
       "    <tr style=\"text-align: right;\">\n",
       "      <th></th>\n",
       "      <th>SLoc</th>\n",
       "      <th>Typ</th>\n",
       "      <th>Stor. Bin</th>\n",
       "      <th>Material</th>\n",
       "      <th>Material Description</th>\n",
       "      <th>MRPCn</th>\n",
       "      <th>Name</th>\n",
       "      <th>S</th>\n",
       "      <th>Storage Unit</th>\n",
       "      <th>PackMatls</th>\n",
       "      <th>...</th>\n",
       "      <th>WUn</th>\n",
       "      <th>Length</th>\n",
       "      <th>Height</th>\n",
       "      <th>Width</th>\n",
       "      <th>Unit of Dimension</th>\n",
       "      <th>per</th>\n",
       "      <th>MovAvgPrice</th>\n",
       "      <th>SLED/BBD</th>\n",
       "      <th>GR Date</th>\n",
       "      <th>Last mvt</th>\n",
       "    </tr>\n",
       "  </thead>\n",
       "  <tbody>\n",
       "    <tr>\n",
       "      <th>0</th>\n",
       "      <td>S040</td>\n",
       "      <td>422</td>\n",
       "      <td>KR04N01E</td>\n",
       "      <td>SCKAA08001A</td>\n",
       "      <td>MigWeld CuSi3 0,8mm</td>\n",
       "      <td>C26</td>\n",
       "      <td>Kevin Castillo</td>\n",
       "      <td>NaN</td>\n",
       "      <td>96316000100641</td>\n",
       "      <td>A153727</td>\n",
       "      <td>...</td>\n",
       "      <td>KG</td>\n",
       "      <td>1130.0</td>\n",
       "      <td>637.0</td>\n",
       "      <td>747.0</td>\n",
       "      <td>MM</td>\n",
       "      <td>100.0</td>\n",
       "      <td>990.34</td>\n",
       "      <td>NaT</td>\n",
       "      <td>2016-04-21</td>\n",
       "      <td>2023-04-16</td>\n",
       "    </tr>\n",
       "    <tr>\n",
       "      <th>1</th>\n",
       "      <td>S040</td>\n",
       "      <td>422</td>\n",
       "      <td>KR04N01H</td>\n",
       "      <td>SCKAA08001A</td>\n",
       "      <td>MigWeld CuSi3 0,8mm</td>\n",
       "      <td>C26</td>\n",
       "      <td>Kevin Castillo</td>\n",
       "      <td>NaN</td>\n",
       "      <td>96316000100643</td>\n",
       "      <td>A153727</td>\n",
       "      <td>...</td>\n",
       "      <td>KG</td>\n",
       "      <td>1130.0</td>\n",
       "      <td>637.0</td>\n",
       "      <td>747.0</td>\n",
       "      <td>MM</td>\n",
       "      <td>100.0</td>\n",
       "      <td>990.34</td>\n",
       "      <td>NaT</td>\n",
       "      <td>2016-04-21</td>\n",
       "      <td>2023-04-16</td>\n",
       "    </tr>\n",
       "    <tr>\n",
       "      <th>2</th>\n",
       "      <td>S040</td>\n",
       "      <td>422</td>\n",
       "      <td>KR04N02H</td>\n",
       "      <td>SCKAA08001A</td>\n",
       "      <td>MigWeld CuSi3 0,8mm</td>\n",
       "      <td>C26</td>\n",
       "      <td>Kevin Castillo</td>\n",
       "      <td>NaN</td>\n",
       "      <td>96316000200811</td>\n",
       "      <td>A153728</td>\n",
       "      <td>...</td>\n",
       "      <td>KG</td>\n",
       "      <td>1130.0</td>\n",
       "      <td>425.0</td>\n",
       "      <td>747.0</td>\n",
       "      <td>MM</td>\n",
       "      <td>100.0</td>\n",
       "      <td>990.34</td>\n",
       "      <td>NaT</td>\n",
       "      <td>2016-05-26</td>\n",
       "      <td>2023-04-16</td>\n",
       "    </tr>\n",
       "    <tr>\n",
       "      <th>3</th>\n",
       "      <td>S040</td>\n",
       "      <td>422</td>\n",
       "      <td>KR04N01F</td>\n",
       "      <td>SCKAA08001A</td>\n",
       "      <td>MigWeld CuSi3 0,8mm</td>\n",
       "      <td>C26</td>\n",
       "      <td>Kevin Castillo</td>\n",
       "      <td>NaN</td>\n",
       "      <td>96316000200826</td>\n",
       "      <td>A153727</td>\n",
       "      <td>...</td>\n",
       "      <td>KG</td>\n",
       "      <td>1130.0</td>\n",
       "      <td>637.0</td>\n",
       "      <td>747.0</td>\n",
       "      <td>MM</td>\n",
       "      <td>100.0</td>\n",
       "      <td>990.34</td>\n",
       "      <td>NaT</td>\n",
       "      <td>2016-05-26</td>\n",
       "      <td>2023-04-16</td>\n",
       "    </tr>\n",
       "    <tr>\n",
       "      <th>4</th>\n",
       "      <td>S001</td>\n",
       "      <td>748</td>\n",
       "      <td>JIS10A005A</td>\n",
       "      <td>4M0199869AN</td>\n",
       "      <td>SUPPORT BEARING</td>\n",
       "      <td>C41</td>\n",
       "      <td>Andrea Arenas</td>\n",
       "      <td>NaN</td>\n",
       "      <td>96316000214819</td>\n",
       "      <td>562013</td>\n",
       "      <td>...</td>\n",
       "      <td>KG</td>\n",
       "      <td>1200.0</td>\n",
       "      <td>165.0</td>\n",
       "      <td>1000.0</td>\n",
       "      <td>MM</td>\n",
       "      <td>100.0</td>\n",
       "      <td>414.46</td>\n",
       "      <td>NaT</td>\n",
       "      <td>2015-10-16</td>\n",
       "      <td>2022-12-17</td>\n",
       "    </tr>\n",
       "  </tbody>\n",
       "</table>\n",
       "<p>5 rows × 25 columns</p>\n",
       "</div>"
      ],
      "text/plain": [
       "   SLoc  Typ   Stor. Bin     Material Material Description MRPCn  \\\n",
       "0  S040  422    KR04N01E  SCKAA08001A  MigWeld CuSi3 0,8mm   C26   \n",
       "1  S040  422    KR04N01H  SCKAA08001A  MigWeld CuSi3 0,8mm   C26   \n",
       "2  S040  422    KR04N02H  SCKAA08001A  MigWeld CuSi3 0,8mm   C26   \n",
       "3  S040  422    KR04N01F  SCKAA08001A  MigWeld CuSi3 0,8mm   C26   \n",
       "4  S001  748  JIS10A005A  4M0199869AN      SUPPORT BEARING   C41   \n",
       "\n",
       "             Name    S    Storage Unit PackMatls  ...  WUn  Length  Height  \\\n",
       "0  Kevin Castillo  NaN  96316000100641   A153727  ...   KG  1130.0   637.0   \n",
       "1  Kevin Castillo  NaN  96316000100643   A153727  ...   KG  1130.0   637.0   \n",
       "2  Kevin Castillo  NaN  96316000200811   A153728  ...   KG  1130.0   425.0   \n",
       "3  Kevin Castillo  NaN  96316000200826   A153727  ...   KG  1130.0   637.0   \n",
       "4   Andrea Arenas  NaN  96316000214819    562013  ...   KG  1200.0   165.0   \n",
       "\n",
       "    Width  Unit of Dimension    per  MovAvgPrice  SLED/BBD    GR Date  \\\n",
       "0   747.0                 MM  100.0       990.34       NaT 2016-04-21   \n",
       "1   747.0                 MM  100.0       990.34       NaT 2016-04-21   \n",
       "2   747.0                 MM  100.0       990.34       NaT 2016-05-26   \n",
       "3   747.0                 MM  100.0       990.34       NaT 2016-05-26   \n",
       "4  1000.0                 MM  100.0       414.46       NaT 2015-10-16   \n",
       "\n",
       "    Last mvt  \n",
       "0 2023-04-16  \n",
       "1 2023-04-16  \n",
       "2 2023-04-16  \n",
       "3 2023-04-16  \n",
       "4 2022-12-17  \n",
       "\n",
       "[5 rows x 25 columns]"
      ]
     },
     "execution_count": 4,
     "metadata": {},
     "output_type": "execute_result"
    }
   ],
   "source": [
    "warehouse.head()"
   ]
  },
  {
   "cell_type": "code",
   "execution_count": 5,
   "id": "24487806",
   "metadata": {},
   "outputs": [],
   "source": [
    "precios=pd.read_excel('preciou_audi_excel.xlsx')"
   ]
  },
  {
   "cell_type": "code",
   "execution_count": 7,
   "id": "2583767b",
   "metadata": {},
   "outputs": [
    {
     "data": {
      "text/html": [
       "<div>\n",
       "<style scoped>\n",
       "    .dataframe tbody tr th:only-of-type {\n",
       "        vertical-align: middle;\n",
       "    }\n",
       "\n",
       "    .dataframe tbody tr th {\n",
       "        vertical-align: top;\n",
       "    }\n",
       "\n",
       "    .dataframe thead th {\n",
       "        text-align: right;\n",
       "    }\n",
       "</style>\n",
       "<table border=\"1\" class=\"dataframe\">\n",
       "  <thead>\n",
       "    <tr style=\"text-align: right;\">\n",
       "      <th></th>\n",
       "      <th>Material</th>\n",
       "      <th>Descripción</th>\n",
       "      <th>Source</th>\n",
       "      <th>MRPCn</th>\n",
       "      <th>Disponent</th>\n",
       "      <th>Price / Unit</th>\n",
       "      <th>Bedarf</th>\n",
       "    </tr>\n",
       "  </thead>\n",
       "  <tbody>\n",
       "    <tr>\n",
       "      <th>0</th>\n",
       "      <td>03G145291</td>\n",
       "      <td>CAP</td>\n",
       "      <td>C</td>\n",
       "      <td>C83</td>\n",
       "      <td>Dulce Ortega</td>\n",
       "      <td>41.9625</td>\n",
       "      <td>5024</td>\n",
       "    </tr>\n",
       "    <tr>\n",
       "      <th>1</th>\n",
       "      <td>03L130118</td>\n",
       "      <td>TUNED MASS DAMPER</td>\n",
       "      <td>C</td>\n",
       "      <td>C43</td>\n",
       "      <td>Andrea Arenas</td>\n",
       "      <td>0.0750</td>\n",
       "      <td>9056</td>\n",
       "    </tr>\n",
       "    <tr>\n",
       "      <th>2</th>\n",
       "      <td>04L103164</td>\n",
       "      <td>KUGELBOLZEN</td>\n",
       "      <td>C</td>\n",
       "      <td>C83</td>\n",
       "      <td>Dulce Ortega</td>\n",
       "      <td>0.1316</td>\n",
       "      <td>1</td>\n",
       "    </tr>\n",
       "    <tr>\n",
       "      <th>3</th>\n",
       "      <td>04L129661E</td>\n",
       "      <td>INTAKE MANIFOLD</td>\n",
       "      <td>M</td>\n",
       "      <td>M23</td>\n",
       "      <td>Ivan Sanchez</td>\n",
       "      <td>4.4838</td>\n",
       "      <td>23516</td>\n",
       "    </tr>\n",
       "    <tr>\n",
       "      <th>4</th>\n",
       "      <td>04L253725C</td>\n",
       "      <td>CLIP</td>\n",
       "      <td>C</td>\n",
       "      <td>C83</td>\n",
       "      <td>Dulce Ortega</td>\n",
       "      <td>1.0928</td>\n",
       "      <td>74</td>\n",
       "    </tr>\n",
       "  </tbody>\n",
       "</table>\n",
       "</div>"
      ],
      "text/plain": [
       "     Material        Descripción Source MRPCn      Disponent  Price / Unit  \\\n",
       "0   03G145291                CAP      C   C83   Dulce Ortega       41.9625   \n",
       "1   03L130118  TUNED MASS DAMPER      C   C43  Andrea Arenas        0.0750   \n",
       "2   04L103164        KUGELBOLZEN      C   C83   Dulce Ortega        0.1316   \n",
       "3  04L129661E    INTAKE MANIFOLD      M   M23   Ivan Sanchez        4.4838   \n",
       "4  04L253725C               CLIP      C   C83   Dulce Ortega        1.0928   \n",
       "\n",
       "   Bedarf  \n",
       "0    5024  \n",
       "1    9056  \n",
       "2       1  \n",
       "3   23516  \n",
       "4      74  "
      ]
     },
     "execution_count": 7,
     "metadata": {},
     "output_type": "execute_result"
    }
   ],
   "source": [
    "precios.head()"
   ]
  },
  {
   "cell_type": "code",
   "execution_count": 6,
   "id": "36746aa0-a654-4a23-999b-7e9f21ffffa1",
   "metadata": {
    "tags": []
   },
   "outputs": [],
   "source": [
    "combined_data= pd.merge(warehouse, precios, on='Material', how='inner')"
   ]
  },
  {
   "cell_type": "code",
   "execution_count": 8,
   "id": "b6c2aebd-e8e4-4a08-bacd-79f7e064252e",
   "metadata": {
    "tags": []
   },
   "outputs": [],
   "source": [
    "# Calcular los días desde el último movimiento\n",
    "combined_data['Last mvt'] = pd.to_datetime(combined_data['Last mvt'], errors='coerce')\n",
    "combined_data['Days Since Last Mvt'] = (pd.to_datetime('today') - combined_data['Last mvt']).dt.days"
   ]
  },
  {
   "cell_type": "code",
   "execution_count": 9,
   "id": "8b33dec3-b781-48bd-a3f9-6cd31b8a0bb9",
   "metadata": {
    "tags": []
   },
   "outputs": [],
   "source": [
    "combined_data['Total stock'].fillna(0, inplace=True)\n",
    "#combined_data['Planned qty'].fillna(0, inplace=True)\n",
    "combined_data['Days Since Last Mvt'].fillna(combined_data['Days Since Last Mvt'].max(), inplace=True)\n",
    "combined_data['Price / Unit'].fillna(0, inplace=True)"
   ]
  },
  {
   "cell_type": "code",
   "execution_count": 16,
   "id": "69c464e9-7bb9-46c2-9e95-d55fce8ea515",
   "metadata": {
    "tags": []
   },
   "outputs": [],
   "source": [
    "# Definir criterios para low runners\n",
    "# Criterio 1: Días desde el último movimiento mayor a un umbral (ejemplo: 365 días)\n",
    "# Criterio 2: Stock total significativamente mayor que la demanda planificada\n",
    "\n",
    "low_runner_criteria_days =  365 # Por ejemplo, piezas sin movimiento en los últimos 365 días\n",
    "#low_runner_criteria_stock = 2  # Por ejemplo, stock total al menos 2 veces mayor que la demanda planificada\n",
    "\n",
    "low_runners_filtered = combined_data[\n",
    "    (combined_data['Days Since Last Mvt'] >= low_runner_criteria_days) \n",
    "]\n",
    "   # (combined_data['Total stock'] > low_runner_criteria_stock * combined_data['Planned qty'])\n",
    "\n",
    "\n",
    "\n",
    "#low_runners_filtered = low_runners[low_runners['Days Since Last Mvt'] >= low_runner_criteria_days]"
   ]
  },
  {
   "cell_type": "code",
   "execution_count": 17,
   "id": "d8835cb5-774e-4ffe-814c-ea183090877c",
   "metadata": {
    "tags": []
   },
   "outputs": [
    {
     "name": "stdout",
     "output_type": "stream",
     "text": [
      "\n",
      "Low Runners Identificados:\n",
      "          Material  Price / Unit  Total stock  Days Since Last Mvt\n",
      "0       04L103164A        0.3008       2450.0                 5593\n",
      "1      04L121065CF        1.4384       1755.0                 5395\n",
      "2       04L260849C        1.7832        472.0                 3136\n",
      "3       059121445L        1.0193         48.0                  479\n",
      "4      059121512AM        2.2750        360.0                 4143\n",
      "..             ...           ...          ...                  ...\n",
      "88     SCKAA08001A        9.9034       1440.0                 7809\n",
      "89  TTT800345C GRU        5.9653         53.0                22843\n",
      "90       WHT003361        0.0209      37206.0                 1930\n",
      "91       WHT007154        0.0050         18.0                  436\n",
      "92     XXX64EVB023        0.9027       9419.0                  553\n",
      "\n",
      "[93 rows x 4 columns]\n"
     ]
    }
   ],
   "source": [
    "#print(\"\\nLow Runners Identificados:\")\n",
    "#print(low_runners_filtered[['Material','Price / Unit','Total stock','Planned qty','Days Since Last Mvt']])\n",
    "#avance propuesta\n",
    "low_runners_filtered = low_runners_filtered.groupby('Material').agg({\n",
    "    'Price / Unit': 'first',  # Usamos 'first' porque el precio unitario debe ser el mismo para el mismo material\n",
    "    'Total stock': 'sum',\n",
    "    #'Planned qty': 'sum',\n",
    "    'Days Since Last Mvt': 'sum'  # Sumamos los días sin movimiento\n",
    "}).reset_index()\n",
    "\n",
    "# Mostrar el resultado\n",
    "print(\"\\nLow Runners Identificados:\")\n",
    "print(low_runners_filtered[['Material', 'Price / Unit' ,'Total stock', 'Days Since Last Mvt']])"
   ]
  },
  {
   "cell_type": "markdown",
   "id": "f7793918-a39b-4985-9710-62e6c3638eea",
   "metadata": {
    "tags": []
   },
   "source": [
    "# Escenario 1 Base"
   ]
  },
  {
   "cell_type": "code",
   "execution_count": 18,
   "id": "861bd6b7",
   "metadata": {},
   "outputs": [
    {
     "name": "stdout",
     "output_type": "stream",
     "text": [
      "Stock total: 3,702.00\n"
     ]
    }
   ],
   "source": [
    "material_total=combined_data['Material'].nunique()\n",
    "print(f\"Stock total: {material_total:,.2f}\")"
   ]
  },
  {
   "cell_type": "code",
   "execution_count": 19,
   "id": "0c8424ae",
   "metadata": {},
   "outputs": [
    {
     "name": "stdout",
     "output_type": "stream",
     "text": [
      "Precio total de todo el inventario:$77,239,298.03\n",
      "Stock total: 44,107,613.20\n"
     ]
    }
   ],
   "source": [
    "#calcular el precio total del inventerio\n",
    "precio_inventario = combined_data['Total stock']*combined_data['Price / Unit']\n",
    "precio_total= precio_inventario.sum()\n",
    "stock_total= combined_data['Total stock'].sum()\n",
    "print(f\"Precio total de todo el inventario:${precio_total:,.2f}\")\n",
    "print(f\"Stock total: {stock_total:,.2f}\")"
   ]
  },
  {
   "cell_type": "code",
   "execution_count": 20,
   "id": "c9c20531",
   "metadata": {},
   "outputs": [
    {
     "name": "stdout",
     "output_type": "stream",
     "text": [
      "Stock total: 93.00\n"
     ]
    }
   ],
   "source": [
    "Low_runners_material_total=low_runners_filtered['Material'].count()\n",
    "print(f\"Stock total: {Low_runners_material_total:,.2f}\")"
   ]
  },
  {
   "cell_type": "code",
   "execution_count": 21,
   "id": "8cfff4a8",
   "metadata": {},
   "outputs": [
    {
     "name": "stdout",
     "output_type": "stream",
     "text": [
      "Precio total de los Low Runners: $137,630.20\n",
      "Stock total de low Runners: 145,981.00\n"
     ]
    }
   ],
   "source": [
    "#Calcular el precio total de los low Runners\n",
    "precio_lowrunners= low_runners_filtered['Total stock'] * low_runners_filtered['Price / Unit']\n",
    "precio_total_lr=precio_lowrunners.sum()\n",
    "lr_total= low_runners_filtered['Total stock'].sum()\n",
    "print(f\"Precio total de los Low Runners: ${precio_total_lr:,.2f}\")\n",
    "print(f\"Stock total de low Runners: {lr_total:,.2f}\")"
   ]
  },
  {
   "cell_type": "code",
   "execution_count": 22,
   "id": "124d7576",
   "metadata": {},
   "outputs": [
    {
     "data": {
      "image/png": "[encoded data removed]",
      "text/plain": [
       "<Figure size 1000x500 with 1 Axes>"
      ]
     },
     "metadata": {},
     "output_type": "display_data"
    }
   ],
   "source": [
    "#gráfico representativo\n",
    "labels= ['total Stock', 'low runners stock']\n",
    "values= [stock_total, lr_total]\n",
    "\n",
    "plt.figure(figsize=(10, 5))\n",
    "plt.bar(labels, values, color=['blue', 'red'])\n",
    "plt.title('Total Stock vs Low Runners Stock')\n",
    "plt.ylabel('Stock')\n",
    "plt.show()"
   ]
  },
  {
   "cell_type": "code",
   "execution_count": 23,
   "id": "20e1d5aa",
   "metadata": {},
   "outputs": [
    {
     "data": {
      "image/png": "[encoded data removed]",
      "text/plain": [
       "<Figure size 1000x500 with 1 Axes>"
      ]
     },
     "metadata": {},
     "output_type": "display_data"
    }
   ],
   "source": [
    "# Gráfico de barras para el valor total del inventario y el valor de los low runners\n",
    "\n",
    "labels_value = ['Valor total del sotck', 'Valor total de Low runners']\n",
    "values_value = [precio_total, precio_total_lr]\n",
    "\n",
    "plt.figure(figsize=(10, 5))\n",
    "plt.bar(labels_value, values_value, color=['blue', 'red'])\n",
    "plt.title('Total Inventory Value vs Low Runners Value')\n",
    "plt.ylabel('Value')\n",
    "plt.show()"
   ]
  },
  {
   "cell_type": "code",
   "execution_count": 24,
   "id": "abfa0dc2",
   "metadata": {},
   "outputs": [
    {
     "name": "stdout",
     "output_type": "stream",
     "text": [
      "Porcentaje de low runners en inventario: 0.33%\n",
      "Porcentaje de low runners en inventario($): 0.18%\n"
     ]
    }
   ],
   "source": [
    "#Calcular el porcentaje de low runners dentro del inventario\n",
    "porcentaje_low_runners_en_stock=(lr_total/stock_total)*100\n",
    "procentaje_low_runners_en_dinero=(precio_total_lr/precio_total)*100\n",
    "\n",
    "print(f\"Porcentaje de low runners en inventario: {porcentaje_low_runners_en_stock:.2f}%\")\n",
    "print(f\"Porcentaje de low runners en inventario($): {procentaje_low_runners_en_dinero:.2f}%\")\n"
   ]
  },
  {
   "cell_type": "code",
   "execution_count": 43,
   "id": "e8340c08",
   "metadata": {},
   "outputs": [
    {
     "data": {
      "image/png": "[encoded data removed]",
      "text/plain": [
       "<Figure size 800x800 with 1 Axes>"
      ]
     },
     "metadata": {},
     "output_type": "display_data"
    }
   ],
   "source": [
    "# Gráfico circular para el porcentaje de low runners en el stock total\n",
    "labels_pie = ['Total Stock', 'Low Runners Stock']\n",
    "sizes_pie = [100 - porcentaje_low_runners_en_stock, porcentaje_low_runners_en_stock ]\n",
    "colors = ['blue', 'red']\n",
    "\n",
    "plt.figure(figsize=(8, 8))\n",
    "plt.pie(sizes_pie, labels=labels_pie, colors=colors, autopct='%.2f', startangle=140)\n",
    "plt.axis('equal')\n",
    "plt.title('Porcentaje de Low Runners en el Stock Total')\n",
    "plt.show()\n",
    "\n"
   ]
  },
  {
   "cell_type": "code",
   "execution_count": 42,
   "id": "50fba343",
   "metadata": {},
   "outputs": [
    {
     "data": {
      "image/png": "[encoded data removed]",
      "text/plain": [
       "<Figure size 800x800 with 1 Axes>"
      ]
     },
     "metadata": {},
     "output_type": "display_data"
    }
   ],
   "source": [
    "# Gráfico circular para el porcentaje de valor de low runners en el valor total del inventario\n",
    "labels_pie_value = ['valor del stock total', 'valor de low runners']\n",
    "sizes_pie_value = [100 - procentaje_low_runners_en_dinero, procentaje_low_runners_en_dinero]\n",
    "colors_value = ['blue', 'red']\n",
    "\n",
    "plt.figure(figsize=(8, 8))\n",
    "plt.pie(sizes_pie_value, labels=labels_pie_value, colors=colors_value, autopct='%.2f', startangle=140)\n",
    "plt.axis('equal')\n",
    "plt.title('Porcentaje de Valor de Low Runners en el Inventario Total')\n",
    "plt.show()"
   ]
  },
  {
   "cell_type": "markdown",
   "id": "dc85d5ad-8545-4217-a128-198af1117465",
   "metadata": {
    "tags": []
   },
   "source": [
    "# Escenario 2: Eliminación de Low Runners"
   ]
  },
  {
   "cell_type": "code",
   "execution_count": 27,
   "id": "4861b0e9",
   "metadata": {},
   "outputs": [
    {
     "name": "stdout",
     "output_type": "stream",
     "text": [
      "Costo de almacenar low runners : $291,962.00\n"
     ]
    }
   ],
   "source": [
    "almacen= low_runners_filtered['Total stock']*costo_almacenamiento_por_unidad_por_año*horizonte_tiempo_años\n",
    "costo_almacen=almacen.sum()\n",
    "print(f'Costo de almacenar low runners : ${costo_almacen:,.2f}')"
   ]
  },
  {
   "cell_type": "code",
   "execution_count": 28,
   "id": "6d3859c1",
   "metadata": {},
   "outputs": [
    {
     "name": "stdout",
     "output_type": "stream",
     "text": [
      "Costo de eliminar low runners : $145,981.00\n"
     ]
    }
   ],
   "source": [
    "costo_eliminar_unidad= 1 #usd\n",
    "\n",
    "eliminar= low_runners_filtered['Total stock']*costo_eliminar_unidad\n",
    "costo_eliminar= eliminar.sum()\n",
    "print(f'Costo de eliminar low runners : ${costo_eliminar:,.2f}')"
   ]
  },
  {
   "cell_type": "code",
   "execution_count": 29,
   "id": "ee8e8ce8",
   "metadata": {},
   "outputs": [
    {
     "name": "stdout",
     "output_type": "stream",
     "text": [
      "Es mas barato eliminar los low runners, el ahorro es de : $145,981.00\n"
     ]
    }
   ],
   "source": [
    "dif_costo= costo_almacen - costo_eliminar\n",
    "if dif_costo >= 0:\n",
    "    print(f'Es mas barato eliminar los low runners, el ahorro es de : ${dif_costo:,.2f}')\n",
    "else:\n",
    "    print(f\"Es más barato mantener los low runners. Costo adicional estimado de eliminación: ${-dif_costo:,.2f}\")"
   ]
  },
  {
   "cell_type": "code",
   "execution_count": 30,
   "id": "a225f7c5",
   "metadata": {},
   "outputs": [
    {
     "name": "stdout",
     "output_type": "stream",
     "text": [
      "    Costo_Almacenamiento  Costo_Eliminacion  Diferencia_Costos\n",
      "0                      1                0.5            72990.5\n",
      "1                      1                1.0                0.0\n",
      "2                      1                1.5           -72990.5\n",
      "3                      1                2.0          -145981.0\n",
      "4                      1                2.5          -218971.5\n",
      "5                      2                0.5           218971.5\n",
      "6                      2                1.0           145981.0\n",
      "7                      2                1.5            72990.5\n",
      "8                      2                2.0                0.0\n",
      "9                      2                2.5           -72990.5\n",
      "10                     3                0.5           364952.5\n",
      "11                     3                1.0           291962.0\n",
      "12                     3                1.5           218971.5\n",
      "13                     3                2.0           145981.0\n",
      "14                     3                2.5            72990.5\n",
      "15                     4                0.5           510933.5\n",
      "16                     4                1.0           437943.0\n",
      "17                     4                1.5           364952.5\n",
      "18                     4                2.0           291962.0\n",
      "19                     4                2.5           218971.5\n",
      "20                     5                0.5           656914.5\n",
      "21                     5                1.0           583924.0\n",
      "22                     5                1.5           510933.5\n",
      "23                     5                2.0           437943.0\n",
      "24                     5                2.5           364952.5\n"
     ]
    }
   ],
   "source": [
    "# Parámetros para el análisis de sensibilidad\n",
    "costo_almacenamiento_variaciones = [1, 2, 3, 4, 5]  # Variaciones en el costo de almacenamiento por unidad por año\n",
    "costo_eliminacion_variaciones = [0.5, 1, 1.5, 2, 2.5]  # Variaciones en el costo de eliminación por unidad\n",
    "\n",
    "# Realizar análisis de sensibilidad\n",
    "sensibilidad_resultados = []\n",
    "for almacenamiento in costo_almacenamiento_variaciones:\n",
    "    for eliminacion in costo_eliminacion_variaciones:\n",
    "        storage_cost = low_runners_filtered['Total stock'].sum() * almacenamiento * horizonte_tiempo_años\n",
    "        elimination_cost = low_runners_filtered['Total stock'].sum() * eliminacion\n",
    "        diferencia_costos = storage_cost - elimination_cost\n",
    "        sensibilidad_resultados.append({\n",
    "            'Costo_Almacenamiento': almacenamiento,\n",
    "            'Costo_Eliminacion': eliminacion,\n",
    "            'Diferencia_Costos': diferencia_costos\n",
    "        })\n",
    "\n",
    "# Mostrar los resultados del análisis de sensibilidad\n",
    "sensibilidad_df = pd.DataFrame(sensibilidad_resultados)\n",
    "print(sensibilidad_df)"
   ]
  },
  {
   "cell_type": "markdown",
   "id": "a208e9e0",
   "metadata": {},
   "source": [
    "# Escenario 3: Mixto\n"
   ]
  },
  {
   "cell_type": "code",
   "execution_count": 31,
   "id": "e8bb1ec8",
   "metadata": {},
   "outputs": [],
   "source": [
    "reduccion_factor= 0.5\n",
    "low_runners_reduced = low_runners_filtered.copy()\n",
    "low_runners_reduced['Total stock']=low_runners_reduced['Total stock']*reduccion_factor\n",
    "#low_runners_reduced['Inventory Value'] = low_runners_reduced['Total stock'] * low_runners_reduced['Price / Unit']\n"
   ]
  },
  {
   "cell_type": "code",
   "execution_count": 32,
   "id": "9f93d90b",
   "metadata": {},
   "outputs": [
    {
     "name": "stdout",
     "output_type": "stream",
     "text": [
      "Costo de almacenar low runners : $145,981.00\n"
     ]
    }
   ],
   "source": [
    "almacen_mixto= low_runners_reduced['Total stock']*costo_almacenamiento_por_unidad_por_año*horizonte_tiempo_años\n",
    "costo_almacen_mixto=almacen_mixto.sum()\n",
    "print(f'Costo de almacenar low runners : ${costo_almacen_mixto:,.2f}')"
   ]
  },
  {
   "cell_type": "code",
   "execution_count": 33,
   "id": "acbccc3a",
   "metadata": {},
   "outputs": [
    {
     "name": "stdout",
     "output_type": "stream",
     "text": [
      "Costo de eliminar low runners : $72,990.50\n"
     ]
    }
   ],
   "source": [
    "costo_eliminar_unidad= 1 #usd\n",
    "\n",
    "eliminar_mixto=low_runners_reduced['Total stock']*costo_eliminar_unidad\n",
    "costo_eliminar_mixto= eliminar_mixto.sum()\n",
    "print(f'Costo de eliminar low runners : ${costo_eliminar_mixto:,.2f}')"
   ]
  },
  {
   "cell_type": "code",
   "execution_count": 34,
   "id": "356dbcb6",
   "metadata": {},
   "outputs": [
    {
     "name": "stdout",
     "output_type": "stream",
     "text": [
      "Es mas barato eliminar los low runners, el ahorro es de : $72,990.50\n"
     ]
    }
   ],
   "source": [
    "dif_costo_mixto= costo_almacen_mixto - costo_eliminar_mixto\n",
    "if dif_costo >= 0:\n",
    "    print(f'Es mas barato eliminar los low runners, el ahorro es de : ${dif_costo_mixto:,.2f}')\n",
    "else:\n",
    "    print(f\"Es más barato mantener los low runners. Costo adicional estimado de eliminación: ${-dif_costo_mixto:,.2f}\")"
   ]
  },
  {
   "cell_type": "code",
   "execution_count": 35,
   "id": "dd092687",
   "metadata": {},
   "outputs": [
    {
     "name": "stdout",
     "output_type": "stream",
     "text": [
      "$218,971.50\n"
     ]
    }
   ],
   "source": [
    "suma=costo_eliminar_mixto+costo_almacen_mixto\n",
    "print(f'${suma:,.2f}')"
   ]
  },
  {
   "cell_type": "code",
   "execution_count": 36,
   "id": "43aec4c7",
   "metadata": {},
   "outputs": [
    {
     "name": "stdout",
     "output_type": "stream",
     "text": [
      "    Costo_Almacenamiento  Costo_Eliminacion  Diferencia_Costos\n",
      "0                      1                0.5           36495.25\n",
      "1                      1                1.0               0.00\n",
      "2                      1                1.5          -36495.25\n",
      "3                      1                2.0          -72990.50\n",
      "4                      1                2.5         -109485.75\n",
      "5                      2                0.5          109485.75\n",
      "6                      2                1.0           72990.50\n",
      "7                      2                1.5           36495.25\n",
      "8                      2                2.0               0.00\n",
      "9                      2                2.5          -36495.25\n",
      "10                     3                0.5          182476.25\n",
      "11                     3                1.0          145981.00\n",
      "12                     3                1.5          109485.75\n",
      "13                     3                2.0           72990.50\n",
      "14                     3                2.5           36495.25\n",
      "15                     4                0.5          255466.75\n",
      "16                     4                1.0          218971.50\n",
      "17                     4                1.5          182476.25\n",
      "18                     4                2.0          145981.00\n",
      "19                     4                2.5          109485.75\n",
      "20                     5                0.5          328457.25\n",
      "21                     5                1.0          291962.00\n",
      "22                     5                1.5          255466.75\n",
      "23                     5                2.0          218971.50\n",
      "24                     5                2.5          182476.25\n"
     ]
    }
   ],
   "source": [
    "# Análisis de sensibilidad para el escenario mixto\n",
    "costo_almacenamiento_variaciones_1 = [1, 2, 3, 4, 5]  # Variaciones en el costo de almacenamiento por unidad por año\n",
    "costo_eliminacion_variaciones_1 = [0.5, 1, 1.5, 2, 2.5]  # Variaciones en el costo de eliminación por unidad\n",
    "\n",
    "# Realizar análisis de sensibilidad\n",
    "sensibilidad_resultados_mixto_1 = []\n",
    "for almacenamiento_1 in costo_almacenamiento_variaciones_1:\n",
    "    for eliminacion_1 in costo_eliminacion_variaciones_1:\n",
    "        storage_cost_1 = low_runners_reduced['Total stock'].sum() * almacenamiento_1 * horizonte_tiempo_años\n",
    "        elimination_cost_1 = low_runners_reduced['Total stock'].sum() * eliminacion_1\n",
    "        diferencia_costos_1 = storage_cost_1 - elimination_cost_1\n",
    "        sensibilidad_resultados_mixto_1.append({\n",
    "            'Costo_Almacenamiento': almacenamiento_1,\n",
    "            'Costo_Eliminacion': eliminacion_1,\n",
    "            'Diferencia_Costos': diferencia_costos_1\n",
    "        })\n",
    "\n",
    "# Mostrar los resultados del análisis de sensibilidad\n",
    "sensibilidad_df_mixto = pd.DataFrame(sensibilidad_resultados_mixto_1)\n",
    "print(sensibilidad_df_mixto)"
   ]
  },
  {
   "cell_type": "code",
   "execution_count": 44,
   "id": "23e913a1",
   "metadata": {},
   "outputs": [
    {
     "name": "stdout",
     "output_type": "stream",
     "text": [
      "     Escenario  Costo de Almacenamiento  Costo de Eliminación  Costo Total\n",
      "0         Base                 291962.0                   0.0     291962.0\n",
      "1  Eliminación                      0.0              145981.0     145981.0\n"
     ]
    },
    {
     "data": {
      "image/png": "[encoded data removed]",
      "text/plain": [
       "<Figure size 1200x600 with 1 Axes>"
      ]
     },
     "metadata": {},
     "output_type": "display_data"
    }
   ],
   "source": [
    "# Reunir los costos en un solo DataFrame\n",
    "costos_escenarios = {\n",
    "    'Escenario': ['Base', 'Eliminación'],\n",
    "    'Costo de Almacenamiento': [costo_almacen, 0],\n",
    "    'Costo de Eliminación': [0, costo_eliminar],\n",
    "    'Costo Total': [costo_almacen, costo_eliminar]\n",
    "}\n",
    "\n",
    "costos_df = pd.DataFrame(costos_escenarios)\n",
    "print(costos_df)\n",
    "\n",
    "# Visualizar los resultados\n",
    "fig, ax = plt.subplots(figsize=(12, 6))\n",
    "\n",
    "# Crear barras para el costo de almacenamiento y eliminación\n",
    "bar_width = 0.35\n",
    "index = range(len(costos_df))\n",
    "\n",
    "storage_bars = plt.bar(index, costos_df['Costo de Almacenamiento'], bar_width, label='Costo de Almacenamiento', color='blue')\n",
    "elimination_bars = plt.bar([i + bar_width for i in index], costos_df['Costo de Eliminación'], bar_width, label='Costo de Eliminación', color='red')\n",
    "\n",
    "# Añadir etiquetas y título\n",
    "plt.xlabel('Escenario')\n",
    "plt.ylabel('Costo Total (USD)')\n",
    "plt.title('Comparación de Costos entre Escenarios')\n",
    "plt.xticks([i + bar_width / 2 for i in index], costos_df['Escenario'])\n",
    "plt.legend()\n",
    "\n",
    "# Mostrar los valores encima de las barras\n",
    "for bar in storage_bars + elimination_bars:\n",
    "    yval = bar.get_height()\n",
    "    plt.text(bar.get_x() + bar.get_width() / 2, yval, f'${yval:,.2f}', ha='center', va='bottom')\n",
    "\n",
    "plt.show()"
   ]
  },
  {
   "cell_type": "markdown",
   "id": "0867352a",
   "metadata": {},
   "source": []
  },
  {
   "cell_type": "markdown",
   "id": "2505f33e",
   "metadata": {},
   "source": []
  },
  {
   "cell_type": "code",
   "execution_count": 31,
   "id": "f620d190",
   "metadata": {},
   "outputs": [],
   "source": [
    "#low_runners_filtered.to_excel('low_runners_filtered.xlsx', index=False)"
   ]
  },
  {
   "cell_type": "code",
   "execution_count": 32,
   "id": "045188dd",
   "metadata": {},
   "outputs": [],
   "source": [
    "#combined_data.to_excel('combined_data.xlsx', index=False)"
   ]
  },
  {
   "cell_type": "code",
   "execution_count": 63,
   "id": "eb1d3626",
   "metadata": {},
   "outputs": [
    {
     "name": "stdout",
     "output_type": "stream",
     "text": [
      "\n",
      "WareHouse:\n",
      "               Material  Price / Unit  Total stock\n",
      "0            03G906051M        3.2765       5700.0\n",
      "1             03L130118        0.0750       2500.0\n",
      "2             03L260817        0.0382      15500.0\n",
      "3     04L100018GBS 4623     3642.0415         38.0\n",
      "4             04L103164        0.1316        100.0\n",
      "...                 ...           ...          ...\n",
      "3697          WHT008843        0.0483     227400.0\n",
      "3698          WHT008954        0.3145      11700.0\n",
      "3699         WHT009012B        0.2933     116200.0\n",
      "3700          WHT009581        0.0660     101800.0\n",
      "3701        XXX64EVB023        0.9027       9419.0\n",
      "\n",
      "[3702 rows x 3 columns]\n"
     ]
    }
   ],
   "source": [
    "combined_data_new= combined_data.groupby('Material').agg({\n",
    "    'Price / Unit': 'first',  # Usamos 'first' porque el precio unitario debe ser el mismo para el mismo material\n",
    "    'Total stock': 'sum',\n",
    "    #'Planned qty': 'sum',\n",
    "    #'Days Since Last Mvt': 'sum'  # Sumamos los días sin movimiento\n",
    "}).reset_index()\n",
    "\n",
    "# Mostrar el resultado\n",
    "print(\"\\nWareHouse:\")\n",
    "print(combined_data_new[['Material','Price / Unit', 'Total stock']])"
   ]
  },
  {
   "cell_type": "code",
   "execution_count": 64,
   "id": "d85167b6",
   "metadata": {},
   "outputs": [],
   "source": [
    "combined_data_new.to_excel('combined_data_new.xlsx', index=False)"
   ]
  },
  {
   "cell_type": "code",
   "execution_count": null,
   "id": "4c8fd1bf",
   "metadata": {},
   "outputs": [],
   "source": []
  }
 ],
 "metadata": {
  "kernelspec": {
   "display_name": "Python 3 (ipykernel)",
   "language": "python",
   "name": "python3"
  },
  "language_info": {
   "codemirror_mode": {
    "name": "ipython",
    "version": 3
   },
   "file_extension": ".py",
   "mimetype": "text/x-python",
   "name": "python",
   "nbconvert_exporter": "python",
   "pygments_lexer": "ipython3",
   "version": "3.11.4"
  }
 },
 "nbformat": 4,
 "nbformat_minor": 5
}
